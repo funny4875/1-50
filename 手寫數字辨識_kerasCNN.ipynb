{
  "nbformat": 4,
  "nbformat_minor": 0,
  "metadata": {
    "accelerator": "GPU",
    "colab": {
      "name": "手寫數字辨識_kerasCNN.ipynb",
      "provenance": [],
      "collapsed_sections": [],
      "authorship_tag": "ABX9TyO2vS6R1Dmn9p/fvR6yzava",
      "include_colab_link": true
    },
    "kernelspec": {
      "display_name": "Python 3",
      "name": "python3"
    }
  },
  "cells": [
    {
      "cell_type": "markdown",
      "metadata": {
        "id": "view-in-github",
        "colab_type": "text"
      },
      "source": [
        "<a href=\"https://colab.research.google.com/github/funny4875/1-50/blob/master/%E6%89%8B%E5%AF%AB%E6%95%B8%E5%AD%97%E8%BE%A8%E8%AD%98_kerasCNN.ipynb\" target=\"_parent\"><img src=\"https://colab.research.google.com/assets/colab-badge.svg\" alt=\"Open In Colab\"/></a>"
      ]
    },
    {
      "cell_type": "code",
      "metadata": {
        "colab": {
          "base_uri": "https://localhost:8080/"
        },
        "id": "L_KchYLuWh_4",
        "outputId": "bb1b6993-3204-4b11-ce87-8c4330c47459"
      },
      "source": [
        "import numpy as np\n",
        "np.shape(x_train[56][0])"
      ],
      "execution_count": null,
      "outputs": [
        {
          "output_type": "execute_result",
          "data": {
            "text/plain": [
              "(28, 28)"
            ]
          },
          "metadata": {
            "tags": []
          },
          "execution_count": 17
        }
      ]
    },
    {
      "cell_type": "code",
      "metadata": {
        "id": "LqsdzNWtWoTe"
      },
      "source": [
        " #-*- coding: utf-8 -*-\n",
        "import os\n",
        "from keras.models import Sequential, load_model\n",
        "from keras.layers import Dense, Dropout, Flatten, Conv2D, MaxPool2D\n",
        "from keras.utils import np_utils, plot_model\n",
        "from keras.datasets import mnist\n",
        "import matplotlib.pyplot as plt\n",
        "import pandas as pd "
      ],
      "execution_count": null,
      "outputs": []
    },
    {
      "cell_type": "code",
      "metadata": {
        "colab": {
          "base_uri": "https://localhost:8080/"
        },
        "id": "raLh_Emo_81c",
        "outputId": "43f17e9b-73c6-4a82-a51c-e17044c7d3ce"
      },
      "source": [
        "26*16"
      ],
      "execution_count": null,
      "outputs": [
        {
          "output_type": "execute_result",
          "data": {
            "text/plain": [
              "416"
            ]
          },
          "metadata": {
            "tags": []
          },
          "execution_count": 8
        }
      ]
    },
    {
      "cell_type": "code",
      "metadata": {
        "colab": {
          "base_uri": "https://localhost:8080/"
        },
        "id": "IuOsGJGHWych",
        "outputId": "48de5e78-2b73-4ae7-f4fd-2aa761163d1f"
      },
      "source": [
        "# Mnist Dataset\n",
        "(X_train, Y_train), (X_test, Y_test) = mnist.load_data()\n",
        "x_train = X_train.reshape(60000, 28, 28, 1)/255\n",
        "x_test = X_test.reshape(10000, 28, 28, 1)/255\n",
        "y_train = np_utils.to_categorical(Y_train)\n",
        "y_test = np_utils.to_categorical(Y_test)\n",
        "\n",
        "model = Sequential()  \n",
        "# Create CN layer 1  \n",
        "model.add(Conv2D(filters=16,kernel_size=(5,5),padding='same',  \n",
        "              input_shape=(28,28,1),  \n",
        "              activation='relu'))  \n",
        "# Create Max-Pool 1  \n",
        "model.add(MaxPool2D(pool_size=(2,2)))  \n",
        "# Create CN layer 2  \n",
        "model.add(Conv2D(filters=36,kernel_size=(3,3),  \n",
        "        padding='same',input_shape=(14,14,1),activation='relu'))  \n",
        "\n",
        "# Create Max-Pool 2  \n",
        "model.add(MaxPool2D(pool_size=(2,2)))  \n",
        "# Add Dropout layer  \n",
        "model.add(Dropout(0.25))  \n",
        "# 建立平坦層 \n",
        "model.add(Flatten()) \n",
        "# hidden layer\n",
        "model.add(Dense(128, activation='relu'))  \n",
        "model.add(Dropout(0.5))\n",
        "# 建立輸出層 \n",
        "model.add(Dense(10, activation='softmax'))  \n",
        "print(model.summary())"
      ],
      "execution_count": null,
      "outputs": [
        {
          "output_type": "stream",
          "text": [
            "Downloading data from https://storage.googleapis.com/tensorflow/tf-keras-datasets/mnist.npz\n",
            "11493376/11490434 [==============================] - 0s 0us/step\n",
            "Model: \"sequential\"\n",
            "_________________________________________________________________\n",
            "Layer (type)                 Output Shape              Param #   \n",
            "=================================================================\n",
            "conv2d (Conv2D)              (None, 28, 28, 16)        416       \n",
            "_________________________________________________________________\n",
            "max_pooling2d (MaxPooling2D) (None, 14, 14, 16)        0         \n",
            "_________________________________________________________________\n",
            "conv2d_1 (Conv2D)            (None, 14, 14, 36)        5220      \n",
            "_________________________________________________________________\n",
            "max_pooling2d_1 (MaxPooling2 (None, 7, 7, 36)          0         \n",
            "_________________________________________________________________\n",
            "dropout (Dropout)            (None, 7, 7, 36)          0         \n",
            "_________________________________________________________________\n",
            "flatten (Flatten)            (None, 1764)              0         \n",
            "_________________________________________________________________\n",
            "dense (Dense)                (None, 128)               225920    \n",
            "_________________________________________________________________\n",
            "dropout_1 (Dropout)          (None, 128)               0         \n",
            "_________________________________________________________________\n",
            "dense_1 (Dense)              (None, 10)                1290      \n",
            "=================================================================\n",
            "Total params: 232,846\n",
            "Trainable params: 232,846\n",
            "Non-trainable params: 0\n",
            "_________________________________________________________________\n",
            "None\n"
          ],
          "name": "stdout"
        }
      ]
    },
    {
      "cell_type": "code",
      "metadata": {
        "colab": {
          "base_uri": "https://localhost:8080/"
        },
        "id": "nLioicTrVqY-",
        "outputId": "89f151d7-da56-4f96-fe22-490ec785afdf"
      },
      "source": [
        "16*(5*5) +16"
      ],
      "execution_count": null,
      "outputs": [
        {
          "output_type": "execute_result",
          "data": {
            "text/plain": [
              "160"
            ]
          },
          "metadata": {
            "tags": []
          },
          "execution_count": 12
        }
      ]
    },
    {
      "cell_type": "code",
      "metadata": {
        "colab": {
          "base_uri": "https://localhost:8080/"
        },
        "id": "9-WeujItY0Qr",
        "outputId": "4c72c4f7-5222-48eb-e75c-3a7c7139e70f"
      },
      "source": [
        "16*(3*3)*36 +36"
      ],
      "execution_count": null,
      "outputs": [
        {
          "output_type": "execute_result",
          "data": {
            "text/plain": [
              "5220"
            ]
          },
          "metadata": {
            "tags": []
          },
          "execution_count": 13
        }
      ]
    },
    {
      "cell_type": "code",
      "metadata": {
        "colab": {
          "base_uri": "https://localhost:8080/"
        },
        "id": "cTrWNtsba4rN",
        "outputId": "666cc0e4-64b4-40d8-aae6-f49aaf2dbb7d"
      },
      "source": [
        "# Train\n",
        "model.compile(loss='categorical_crossentropy', optimizer='adam', metrics=['accuracy'])\n",
        "model.fit(x_train, y_train, epochs=10, batch_size=64, verbose=1)\n",
        "# Test\n",
        "loss, accuracy = model.evaluate(x_test, y_test)\n",
        "print('Test:')\n",
        "print('Loss: %s\\nAccuracy: %s' % (loss, accuracy))\n",
        "\n"
      ],
      "execution_count": null,
      "outputs": [
        {
          "output_type": "stream",
          "text": [
            "Epoch 1/10\n",
            "938/938 [==============================] - 12s 6ms/step - loss: 0.5612 - accuracy: 0.8219\n",
            "Epoch 2/10\n",
            "938/938 [==============================] - 6s 6ms/step - loss: 0.1049 - accuracy: 0.9696\n",
            "Epoch 3/10\n",
            "938/938 [==============================] - 6s 6ms/step - loss: 0.0750 - accuracy: 0.9766\n",
            "Epoch 4/10\n",
            "938/938 [==============================] - 6s 6ms/step - loss: 0.0597 - accuracy: 0.9818\n",
            "Epoch 5/10\n",
            "938/938 [==============================] - 6s 6ms/step - loss: 0.0574 - accuracy: 0.9833\n",
            "Epoch 6/10\n",
            "938/938 [==============================] - 6s 6ms/step - loss: 0.0519 - accuracy: 0.9842\n",
            "Epoch 7/10\n",
            "938/938 [==============================] - 6s 6ms/step - loss: 0.0447 - accuracy: 0.9858\n",
            "Epoch 8/10\n",
            "938/938 [==============================] - 6s 6ms/step - loss: 0.0395 - accuracy: 0.9879\n",
            "Epoch 9/10\n",
            "938/938 [==============================] - 6s 6ms/step - loss: 0.0392 - accuracy: 0.9873\n",
            "Epoch 10/10\n",
            "938/938 [==============================] - 6s 6ms/step - loss: 0.0381 - accuracy: 0.9886\n",
            "313/313 [==============================] - 1s 3ms/step - loss: 0.0184 - accuracy: 0.9935\n",
            "Test:\n",
            "Loss: 0.01838546246290207\n",
            "Accuracy: 0.9934999942779541\n"
          ],
          "name": "stdout"
        }
      ]
    },
    {
      "cell_type": "code",
      "metadata": {
        "colab": {
          "base_uri": "https://localhost:8080/"
        },
        "id": "wOjsWFnHjpjD",
        "outputId": "670aea56-6dfa-41f7-f86c-c89455021755"
      },
      "source": [
        "i=1\r\n",
        "for layer in model.layers:\r\n",
        "  print(\"Layer:\"+str(i)+\"\\n\"+str(layer.input)+\"\\n\"+str(layer.output))\r\n",
        "  print(\"-------\")\r\n",
        "  i=i+1"
      ],
      "execution_count": null,
      "outputs": [
        {
          "output_type": "stream",
          "text": [
            "Layer:1\n",
            "KerasTensor(type_spec=TensorSpec(shape=(None, 28, 28, 1), dtype=tf.float32, name='conv2d_input'), name='conv2d_input', description=\"created by layer 'conv2d_input'\")\n",
            "KerasTensor(type_spec=TensorSpec(shape=(None, 28, 28, 16), dtype=tf.float32, name=None), name='conv2d/Relu:0', description=\"created by layer 'conv2d'\")\n",
            "-------\n",
            "Layer:2\n",
            "KerasTensor(type_spec=TensorSpec(shape=(None, 28, 28, 16), dtype=tf.float32, name=None), name='conv2d/Relu:0', description=\"created by layer 'conv2d'\")\n",
            "KerasTensor(type_spec=TensorSpec(shape=(None, 14, 14, 16), dtype=tf.float32, name=None), name='max_pooling2d/MaxPool:0', description=\"created by layer 'max_pooling2d'\")\n",
            "-------\n",
            "Layer:3\n",
            "KerasTensor(type_spec=TensorSpec(shape=(None, 14, 14, 16), dtype=tf.float32, name=None), name='max_pooling2d/MaxPool:0', description=\"created by layer 'max_pooling2d'\")\n",
            "KerasTensor(type_spec=TensorSpec(shape=(None, 14, 14, 36), dtype=tf.float32, name=None), name='conv2d_1/Relu:0', description=\"created by layer 'conv2d_1'\")\n",
            "-------\n",
            "Layer:4\n",
            "KerasTensor(type_spec=TensorSpec(shape=(None, 14, 14, 36), dtype=tf.float32, name=None), name='conv2d_1/Relu:0', description=\"created by layer 'conv2d_1'\")\n",
            "KerasTensor(type_spec=TensorSpec(shape=(None, 7, 7, 36), dtype=tf.float32, name=None), name='max_pooling2d_1/MaxPool:0', description=\"created by layer 'max_pooling2d_1'\")\n",
            "-------\n",
            "Layer:5\n",
            "KerasTensor(type_spec=TensorSpec(shape=(None, 7, 7, 36), dtype=tf.float32, name=None), name='max_pooling2d_1/MaxPool:0', description=\"created by layer 'max_pooling2d_1'\")\n",
            "KerasTensor(type_spec=TensorSpec(shape=(None, 7, 7, 36), dtype=tf.float32, name=None), name='dropout/Identity:0', description=\"created by layer 'dropout'\")\n",
            "-------\n",
            "Layer:6\n",
            "KerasTensor(type_spec=TensorSpec(shape=(None, 7, 7, 36), dtype=tf.float32, name=None), name='dropout/Identity:0', description=\"created by layer 'dropout'\")\n",
            "KerasTensor(type_spec=TensorSpec(shape=(None, 1764), dtype=tf.float32, name=None), name='flatten/Reshape:0', description=\"created by layer 'flatten'\")\n",
            "-------\n",
            "Layer:7\n",
            "KerasTensor(type_spec=TensorSpec(shape=(None, 1764), dtype=tf.float32, name=None), name='flatten/Reshape:0', description=\"created by layer 'flatten'\")\n",
            "KerasTensor(type_spec=TensorSpec(shape=(None, 128), dtype=tf.float32, name=None), name='dense/Relu:0', description=\"created by layer 'dense'\")\n",
            "-------\n",
            "Layer:8\n",
            "KerasTensor(type_spec=TensorSpec(shape=(None, 128), dtype=tf.float32, name=None), name='dense/Relu:0', description=\"created by layer 'dense'\")\n",
            "KerasTensor(type_spec=TensorSpec(shape=(None, 128), dtype=tf.float32, name=None), name='dropout_1/Identity:0', description=\"created by layer 'dropout_1'\")\n",
            "-------\n",
            "Layer:9\n",
            "KerasTensor(type_spec=TensorSpec(shape=(None, 128), dtype=tf.float32, name=None), name='dropout_1/Identity:0', description=\"created by layer 'dropout_1'\")\n",
            "KerasTensor(type_spec=TensorSpec(shape=(None, 10), dtype=tf.float32, name=None), name='dense_1/Softmax:0', description=\"created by layer 'dense_1'\")\n",
            "-------\n"
          ],
          "name": "stdout"
        }
      ]
    },
    {
      "cell_type": "code",
      "metadata": {
        "colab": {
          "base_uri": "https://localhost:8080/"
        },
        "id": "ibYhYll15P4L",
        "outputId": "0e19b2bf-4473-44a7-a391-f2431d7ac806"
      },
      "source": [
        "import numpy as np\r\n",
        "\r\n",
        "weights, biases = model.layers[0].get_weights()\r\n",
        "#0.9934999942779541  ==> 5*5 filter\r\n",
        "#0.9933000206947327  ==> 3*3 filter\r\n",
        "#for i in range(weights.shape[3]):\r\n",
        "  #print(weights[:,:,:,i])\r\n",
        "  \r\n",
        "for i in range(10):\r\n",
        "  x=np.reshape(x_test[i],(1,28,28,1))\r\n",
        "  print(model.predict_classes(x))"
      ],
      "execution_count": null,
      "outputs": [
        {
          "output_type": "stream",
          "text": [
            "/usr/local/lib/python3.6/dist-packages/tensorflow/python/keras/engine/sequential.py:450: UserWarning: `model.predict_classes()` is deprecated and will be removed after 2021-01-01. Please use instead:* `np.argmax(model.predict(x), axis=-1)`,   if your model does multi-class classification   (e.g. if it uses a `softmax` last-layer activation).* `(model.predict(x) > 0.5).astype(\"int32\")`,   if your model does binary classification   (e.g. if it uses a `sigmoid` last-layer activation).\n",
            "  warnings.warn('`model.predict_classes()` is deprecated and '\n"
          ],
          "name": "stderr"
        },
        {
          "output_type": "stream",
          "text": [
            "[7]\n",
            "[2]\n",
            "[1]\n",
            "[0]\n",
            "[4]\n"
          ],
          "name": "stdout"
        }
      ]
    },
    {
      "cell_type": "code",
      "metadata": {
        "id": "CnEaiEP2jiy9"
      },
      "source": [
        ""
      ],
      "execution_count": null,
      "outputs": []
    },
    {
      "cell_type": "code",
      "metadata": {
        "id": "pxRWBMYshrHV"
      },
      "source": [
        "import numpy as np\r\n",
        "from keras.models import Model\r\n",
        "from matplotlib import pyplot\r\n",
        "models = []\r\n",
        "for i in range(5):\r\n",
        "  outputs = [model.layers[i].output]\r\n",
        "  models.append(None)\r\n",
        "  models[i] = Model(inputs=model.inputs,outputs=outputs)\r\n",
        "  #models.append(Model(inputs=model.inputs,outputs=outputs[i]))\r\n",
        "\r\n"
      ],
      "execution_count": null,
      "outputs": []
    },
    {
      "cell_type": "code",
      "metadata": {
        "id": "8IJWq4Imr1jd"
      },
      "source": [
        "conv2d (Conv2D)              (None, 28, 28, 16)        416       \r\n",
        "_________________________________________________________________\r\n",
        "max_pooling2d (MaxPooling2D) (None, 14, 14, 16)        0         \r\n",
        "_________________________________________________________________\r\n",
        "conv2d_1 (Conv2D)            (None, 14, 14, 36)        5220      \r\n",
        "_________________________________________________________________\r\n",
        "max_pooling2d_1 (MaxPooling2 (None, 7, 7, 36)          0         \r\n",
        "_________________________________________________________________\r\n",
        "dropout (Dropout)            (None, 7, 7, 36)          0         \r\n",
        "_____________________________________________________________\r\n"
      ],
      "execution_count": null,
      "outputs": []
    },
    {
      "cell_type": "code",
      "metadata": {
        "colab": {
          "base_uri": "https://localhost:8080/",
          "height": 305
        },
        "id": "R8gdhhOkjFpU",
        "outputId": "8a5dbbfc-9f5e-4894-c7bf-758189916fa5"
      },
      "source": [
        "#conv2d (Conv2D)              (None, 28, 28, 16)        416\r\n",
        "import numpy as np\r\n",
        "x = np.reshape(x_test[1],(1,28,28,1))\r\n",
        "outputs = [model.layers[0].output]\r\n",
        "model_conv2d = Model(inputs=model.inputs,outputs=outputs)\r\n",
        "y = model_conv2d.predict(x)\r\n",
        "i = 0\r\n",
        "for i in range(16):\r\n",
        "  pyplot.subplot(4,4,i+1)\r\n",
        "  pyplot.imshow(y[0,:,:,i], cmap='gray')\r\n",
        "pyplot.show()"
      ],
      "execution_count": null,
      "outputs": [
        {
          "output_type": "stream",
          "text": [
            "WARNING:tensorflow:9 out of the last 11 calls to <function Model.make_predict_function.<locals>.predict_function at 0x7f0ff5ce7ae8> triggered tf.function retracing. Tracing is expensive and the excessive number of tracings could be due to (1) creating @tf.function repeatedly in a loop, (2) passing tensors with different shapes, (3) passing Python objects instead of tensors. For (1), please define your @tf.function outside of the loop. For (2), @tf.function has experimental_relax_shapes=True option that relaxes argument shapes that can avoid unnecessary retracing. For (3), please refer to https://www.tensorflow.org/guide/function#controlling_retracing and https://www.tensorflow.org/api_docs/python/tf/function for  more details.\n"
          ],
          "name": "stdout"
        },
        {
          "output_type": "display_data",
          "data": {
            "image/png": "[encoded data removed]",
            "text/plain": [
              "<Figure size 432x288 with 16 Axes>"
            ]
          },
          "metadata": {
            "tags": [],
            "needs_background": "light"
          }
        }
      ]
    },
    {
      "cell_type": "code",
      "metadata": {
        "id": "SVa9vRwkt_4y"
      },
      "source": [
        "conv2d (Conv2D)              (None, 28, 28, 16)        416       \r\n",
        "_________________________________________________________________\r\n",
        "max_pooling2d (MaxPooling2D) (None, 14, 14, 16)        0         \r\n",
        "_________________________________________________________________\r\n",
        "conv2d_1 (Conv2D)            (None, 14, 14, 36)        5220      \r\n",
        "_________________________________________________________________\r\n",
        "max_pooling2d_1 (MaxPooling2 (None, 7, 7, 36)          0         \r\n",
        "_________________________________________________________________\r\n",
        "dropout (Dropout)            (None, 7, 7, 36)          0         \r\n",
        "_____________________________________________________________"
      ],
      "execution_count": null,
      "outputs": []
    },
    {
      "cell_type": "code",
      "metadata": {
        "colab": {
          "base_uri": "https://localhost:8080/",
          "height": 305
        },
        "id": "YZiYaEZpvG2a",
        "outputId": "e5d38951-2148-49c4-8e4b-74513e0a02ca"
      },
      "source": [
        "#conv2d_1 (Conv2D)            (None, 14, 14, 36)        5220\r\n",
        "import numpy as np\r\n",
        "x = np.reshape(x_test[1],(1,28,28,1))\r\n",
        "outputs = [model.layers[1].output]\r\n",
        "model_max_pooling2d = Model(inputs=model.inputs,outputs=outputs)\r\n",
        "y = model_max_pooling2d.predict(x)\r\n",
        "i = 0\r\n",
        "for i in range(16):\r\n",
        "  pyplot.subplot(4,4,i+1)\r\n",
        "  pyplot.imshow(y[0,:,:,i], cmap='gray')\r\n",
        "pyplot.show()"
      ],
      "execution_count": null,
      "outputs": [
        {
          "output_type": "stream",
          "text": [
            "WARNING:tensorflow:9 out of the last 11 calls to <function Model.make_predict_function.<locals>.predict_function at 0x7f0ff63e8268> triggered tf.function retracing. Tracing is expensive and the excessive number of tracings could be due to (1) creating @tf.function repeatedly in a loop, (2) passing tensors with different shapes, (3) passing Python objects instead of tensors. For (1), please define your @tf.function outside of the loop. For (2), @tf.function has experimental_relax_shapes=True option that relaxes argument shapes that can avoid unnecessary retracing. For (3), please refer to https://www.tensorflow.org/guide/function#controlling_retracing and https://www.tensorflow.org/api_docs/python/tf/function for  more details.\n"
          ],
          "name": "stdout"
        },
        {
          "output_type": "display_data",
          "data": {
            "image/png": "[encoded data removed]",
            "text/plain": [
              "<Figure size 432x288 with 16 Axes>"
            ]
          },
          "metadata": {
            "tags": [],
            "needs_background": "light"
          }
        }
      ]
    },
    {
      "cell_type": "code",
      "metadata": {
        "id": "wSgUPVIXt_LV"
      },
      "source": [
        ""
      ],
      "execution_count": null,
      "outputs": []
    },
    {
      "cell_type": "code",
      "metadata": {
        "colab": {
          "base_uri": "https://localhost:8080/",
          "height": 305
        },
        "id": "q0IeAsNGyIzM",
        "outputId": "61a6effd-dfe7-46f3-c3eb-0281d8ee6ee3"
      },
      "source": [
        "\r\n",
        "#conv2d_1 (Conv2D)            (None, 14, 14, 36)        5220\r\n",
        "import numpy as np\r\n",
        "x = np.reshape(x_test[1],(1,28,28,1))\r\n",
        "outputs = [model.layers[2].output]\r\n",
        "model_conv2d_1 = Model(inputs=model.inputs,outputs=outputs)\r\n",
        "y = model_conv2d_1.predict(x)\r\n",
        "i = 0\r\n",
        "for i in range(36):\r\n",
        "  pyplot.subplot(6,6,i+1)\r\n",
        "  pyplot.imshow(y[0,:,:,i], cmap='gray')\r\n",
        "pyplot.show()"
      ],
      "execution_count": null,
      "outputs": [
        {
          "output_type": "stream",
          "text": [
            "WARNING:tensorflow:9 out of the last 11 calls to <function Model.make_predict_function.<locals>.predict_function at 0x7f1040059378> triggered tf.function retracing. Tracing is expensive and the excessive number of tracings could be due to (1) creating @tf.function repeatedly in a loop, (2) passing tensors with different shapes, (3) passing Python objects instead of tensors. For (1), please define your @tf.function outside of the loop. For (2), @tf.function has experimental_relax_shapes=True option that relaxes argument shapes that can avoid unnecessary retracing. For (3), please refer to https://www.tensorflow.org/guide/function#controlling_retracing and https://www.tensorflow.org/api_docs/python/tf/function for  more details.\n"
          ],
          "name": "stdout"
        },
        {
          "output_type": "display_data",
          "data": {
            "image/png": "[encoded data removed]",
            "text/plain": [
              "<Figure size 432x288 with 36 Axes>"
            ]
          },
          "metadata": {
            "tags": [],
            "needs_background": "light"
          }
        }
      ]
    },
    {
      "cell_type": "code",
      "metadata": {
        "colab": {
          "base_uri": "https://localhost:8080/",
          "height": 304
        },
        "id": "HwaYEXUwyMsL",
        "outputId": "2849c358-9909-4e82-8227-02e0e44f67c3"
      },
      "source": [
        "#conv2d_1 (Conv2D)            (None, 14, 14, 36)        5220\r\n",
        "import numpy as np\r\n",
        "x = np.reshape(x_test[1],(1,28,28,1))\r\n",
        "outputs = [model.layers[3].output]\r\n",
        "model_max_pooling2d_1 = Model(inputs=model.inputs,outputs=outputs)\r\n",
        "y = model_max_pooling2d_1.predict(x)\r\n",
        "i = 0\r\n",
        "for i in range(36):\r\n",
        "  pyplot.subplot(6,6,i+1)\r\n",
        "  pyplot.imshow(y[0,:,:,i], cmap='gray')\r\n",
        "pyplot.show()"
      ],
      "execution_count": null,
      "outputs": [
        {
          "output_type": "stream",
          "text": [
            "WARNING:tensorflow:9 out of the last 11 calls to <function Model.make_predict_function.<locals>.predict_function at 0x7f0ff5f5b6a8> triggered tf.function retracing. Tracing is expensive and the excessive number of tracings could be due to (1) creating @tf.function repeatedly in a loop, (2) passing tensors with different shapes, (3) passing Python objects instead of tensors. For (1), please define your @tf.function outside of the loop. For (2), @tf.function has experimental_relax_shapes=True option that relaxes argument shapes that can avoid unnecessary retracing. For (3), please refer to https://www.tensorflow.org/guide/function#controlling_retracing and https://www.tensorflow.org/api_docs/python/tf/function for  more details.\n"
          ],
          "name": "stdout"
        },
        {
          "output_type": "display_data",
          "data": {
            "image/png": "[encoded data removed]",
            "text/plain": [
              "<Figure size 432x288 with 36 Axes>"
            ]
          },
          "metadata": {
            "tags": [],
            "needs_background": "light"
          }
        }
      ]
    },
    {
      "cell_type": "code",
      "metadata": {
        "colab": {
          "base_uri": "https://localhost:8080/"
        },
        "id": "rY1lEBwMxYAX",
        "outputId": "bcc5abfa-7d4a-4d58-d349-432f75cdfa6b"
      },
      "source": [
        "#dense_1 (Dense)              (None, 10)                1290 \r\n",
        "import numpy as np\r\n",
        "x = np.reshape(x_test[1],(1,28,28,1))\r\n",
        "outputs = [model.layers[8].output]\r\n",
        "model_max_pooling2d_1 = Model(inputs=model.inputs,outputs=outputs)\r\n",
        "y = model_max_pooling2d_1.predict(x)\r\n",
        "print(y)"
      ],
      "execution_count": null,
      "outputs": [
        {
          "output_type": "stream",
          "text": [
            "WARNING:tensorflow:9 out of the last 11 calls to <function Model.make_predict_function.<locals>.predict_function at 0x7f1040062e18> triggered tf.function retracing. Tracing is expensive and the excessive number of tracings could be due to (1) creating @tf.function repeatedly in a loop, (2) passing tensors with different shapes, (3) passing Python objects instead of tensors. For (1), please define your @tf.function outside of the loop. For (2), @tf.function has experimental_relax_shapes=True option that relaxes argument shapes that can avoid unnecessary retracing. For (3), please refer to https://www.tensorflow.org/guide/function#controlling_retracing and https://www.tensorflow.org/api_docs/python/tf/function for  more details.\n",
            "[[7.0223494e-09 4.6155257e-09 1.0000000e+00 1.1023373e-12 6.6931621e-12\n",
            "  3.5598473e-16 1.3962850e-10 2.1619455e-13 5.1324713e-12 3.3742164e-16]]\n"
          ],
          "name": "stdout"
        }
      ]
    },
    {
      "cell_type": "code",
      "metadata": {
        "colab": {
          "base_uri": "https://localhost:8080/"
        },
        "id": "zkJy5IwNd9bu",
        "outputId": "cf381779-95b2-45ea-adbc-7d74f91ea49c"
      },
      "source": [
        "# plot feature map of first conv layer for given image\r\n",
        "from keras.applications.vgg16 import VGG16\r\n",
        "from keras.applications.vgg16 import preprocess_input\r\n",
        "from keras.preprocessing.image import load_img\r\n",
        "from keras.preprocessing.image import img_to_array\r\n",
        "from keras.models import Model\r\n",
        "from matplotlib import pyplot\r\n",
        "from numpy import expand_dims\r\n",
        "# load the model\r\n",
        "model = VGG16()\r\n",
        "# redefine model to output right after the first hidden layer\r\n",
        "model = Model(inputs=model.inputs, outputs=model.layers[1].output)\r\n",
        "model.summary()"
      ],
      "execution_count": null,
      "outputs": [
        {
          "output_type": "stream",
          "text": [
            "Model: \"model_3\"\n",
            "_________________________________________________________________\n",
            "Layer (type)                 Output Shape              Param #   \n",
            "=================================================================\n",
            "input_4 (InputLayer)         [(None, 224, 224, 3)]     0         \n",
            "_________________________________________________________________\n",
            "block1_conv1 (Conv2D)        (None, 224, 224, 64)      1792      \n",
            "=================================================================\n",
            "Total params: 1,792\n",
            "Trainable params: 1,792\n",
            "Non-trainable params: 0\n",
            "_________________________________________________________________\n"
          ],
          "name": "stdout"
        }
      ]
    },
    {
      "cell_type": "code",
      "metadata": {
        "id": "MVoVUj2gePa0"
      },
      "source": [
        "# load the image with the required shape\r\n",
        "img = load_img('bird.jpg', target_size=(224, 224))\r\n",
        "# convert the image to an array\r\n",
        "img = img_to_array(img)\r\n",
        "# expand dimensions so that it represents a single 'sample'\r\n",
        "img = expand_dims(img, axis=0)\r\n",
        "# prepare the image (e.g. scale pixel values for the vgg)\r\n",
        "img = preprocess_input(img)\r\n",
        "# get feature map for first hidden layer\r\n",
        "feature_maps = model.predict(img)\r\n",
        "# plot all 64 maps in an 8x8 squares"
      ],
      "execution_count": null,
      "outputs": []
    },
    {
      "cell_type": "code",
      "metadata": {
        "id": "0JVSVc20acJt"
      },
      "source": [
        ""
      ],
      "execution_count": null,
      "outputs": []
    },
    {
      "cell_type": "code",
      "metadata": {
        "id": "GznSzPnoeOS1"
      },
      "source": [
        ""
      ],
      "execution_count": null,
      "outputs": []
    },
    {
      "cell_type": "code",
      "metadata": {
        "colab": {
          "base_uri": "https://localhost:8080/"
        },
        "id": "LXiEx3lCc6KQ",
        "outputId": "59fa6310-c761-4e32-9a14-d3a86c7ad13f"
      },
      "source": [
        "!cd ..;ls"
      ],
      "execution_count": null,
      "outputs": [
        {
          "output_type": "stream",
          "text": [
            "bin\t datalab  home\t lib64\topt   run   swift\t       tmp    var\n",
            "boot\t dev\t  lib\t media\tproc  sbin  sys\t\t       tools\n",
            "content  etc\t  lib32  mnt\troot  srv   tensorflow-1.15.2  usr\n"
          ],
          "name": "stdout"
        }
      ]
    },
    {
      "cell_type": "code",
      "metadata": {
        "colab": {
          "base_uri": "https://localhost:8080/"
        },
        "id": "ohCW0shLa7pM",
        "outputId": "895bfebf-0ea0-4b0c-f36a-68f08c5c6852"
      },
      "source": [
        "x_test[0].shape"
      ],
      "execution_count": null,
      "outputs": [
        {
          "output_type": "execute_result",
          "data": {
            "text/plain": [
              "(28, 28, 1)"
            ]
          },
          "metadata": {
            "tags": []
          },
          "execution_count": 17
        }
      ]
    },
    {
      "cell_type": "code",
      "metadata": {
        "id": "c8dLsrIH5axJ"
      },
      "source": [
        "#weights[:,:,:,0]\r\n"
      ],
      "execution_count": null,
      "outputs": []
    },
    {
      "cell_type": "code",
      "metadata": {
        "id": "0p8zNgAvbBdp"
      },
      "source": [
        "# Save model\n",
        "#model.save(\"./CNN_Mnist.h5\")\n",
        "\n",
        "# Load Model\n",
        "#model = load_model('./CNN_Mnist.h5')\n",
        "\n",
        "# Display\n",
        "def plot_img(n):\n",
        "    plt.imshow(X_test[n], cmap='gray')\n",
        "    plt.show()\n",
        "\n",
        "\n",
        "def all_img_predict(model):\n",
        "    print(model.summary())\n",
        "    loss, accuracy = model.evaluate(x_test, y_test)\n",
        "    print('Loss:', loss)\n",
        "    print('Accuracy:', accuracy)\n",
        "    predict = model.predict_classes(x_test)\n",
        "    print(pd.crosstab(Y_test.reshape(-1), predict, rownames=['Label'], colnames=['predict']))\n",
        "\n",
        "\n",
        "def one_img_predict(model, n):\n",
        "    predict = model.predict_classes(x_test)\n",
        "    print('Prediction:', predict[n])\n",
        "    print('Answer:', Y_test[n])\n",
        "    plot_img(n)"
      ],
      "execution_count": null,
      "outputs": []
    },
    {
      "cell_type": "code",
      "metadata": {
        "id": "A_5BzhiK5O4a"
      },
      "source": [
        ""
      ],
      "execution_count": null,
      "outputs": []
    },
    {
      "cell_type": "code",
      "metadata": {
        "colab": {
          "base_uri": "https://localhost:8080/",
          "height": 748
        },
        "id": "WseNg6Vzenfm",
        "outputId": "4b98d5d7-d777-420d-8a9d-11708716c9e8"
      },
      "source": [
        "import numpy as np\n",
        "A =  [[0.0,0.0,0.0,0.0,0.0,0.0,0.0,0.0,0.0,0.0,0.0],\n",
        "     [0.0,0.0,0.0,0.0,0.0,0.0,0.0,0.0,0.0,0.0,0.0],\n",
        "     [0.0,0.0,255,255,255,255,255,255,255,0.0,0.0],\n",
        "     [0.0,0.0,255,255,255,255,255,255,255,0.0,0.0],\n",
        "     [0.0,0.0,255,255,255,255,255,255,255,0.0,0.0],\n",
        "     [0.0,0.0,255,255,255,255,255,255,255,0.0,0.0],\n",
        "     [0.0,0.0,255,255,255,255,255,255,255,0.0,0.0],\n",
        "     [0.0,0.0,255,255,255,255,255,255,255,0.0,0.0],\n",
        "     [0.0,0.0,255,255,255,255,255,255,255,0.0,0.0],\n",
        "     [0.0,0.0,255,255,255,255,255,255,255,0.0,0.0],\n",
        "     [0.0,0.0,255,255,255,255,255,255,255,0.0,0.0],\n",
        "     [0.0,0.0,255,255,255,255,255,255,255,0.0,0.0],\n",
        "     [0.0,0.0,255,255,255,255,255,255,255,0.0,0.0],\n",
        "     [0.0,0.0,255,255,255,255,255,255,255,0.0,0.0],\n",
        "     [0.0,0.0,0.0,0.0,0.0,0.0,0.0,0.0,0.0,0.0,0.0],\n",
        "     [0.0,0.0,0.0,0.0,0.0,0.0,0.0,0.0,0.0,0.0,0.0]]\n",
        "plt.imshow(A, cmap='gray')\n",
        "plt.show()\n",
        "\n",
        "B = np.zeros((14,11),dtype=np.float)\n",
        "for i in range(1,13):\n",
        "  for j in range(1,10):\n",
        "    B[i][j] += abs(A[i][j-1]-A[i][j])+abs(A[i][j+1]-A[i][j])\n",
        "    \n",
        "\n",
        "plt.imshow(B, cmap='gray')\n",
        "plt.show()\n",
        "print(B)"
      ],
      "execution_count": null,
      "outputs": [
        {
          "output_type": "display_data",
          "data": {
            "image/png": "[encoded data removed]",
            "text/plain": [
              "<Figure size 432x288 with 1 Axes>"
            ]
          },
          "metadata": {
            "tags": []
          }
        },
        {
          "output_type": "display_data",
          "data": {
            "image/png": "[encoded data removed]",
            "text/plain": [
              "<Figure size 432x288 with 1 Axes>"
            ]
          },
          "metadata": {
            "tags": []
          }
        },
        {
          "output_type": "stream",
          "text": [
            "[[  0.   0.   0.   0.   0.   0.   0.   0.   0.   0.   0.]\n",
            " [  0.   0.   0.   0.   0.   0.   0.   0.   0.   0.   0.]\n",
            " [  0. 255. 255.   0.   0.   0.   0.   0. 255. 255.   0.]\n",
            " [  0. 255. 255.   0.   0.   0.   0.   0. 255. 255.   0.]\n",
            " [  0. 255. 255.   0.   0.   0.   0.   0. 255. 255.   0.]\n",
            " [  0. 255. 255.   0.   0.   0.   0.   0. 255. 255.   0.]\n",
            " [  0. 255. 255.   0.   0.   0.   0.   0. 255. 255.   0.]\n",
            " [  0. 255. 255.   0.   0.   0.   0.   0. 255. 255.   0.]\n",
            " [  0. 255. 255.   0.   0.   0.   0.   0. 255. 255.   0.]\n",
            " [  0. 255. 255.   0.   0.   0.   0.   0. 255. 255.   0.]\n",
            " [  0. 255. 255.   0.   0.   0.   0.   0. 255. 255.   0.]\n",
            " [  0. 255. 255.   0.   0.   0.   0.   0. 255. 255.   0.]\n",
            " [  0. 255. 255.   0.   0.   0.   0.   0. 255. 255.   0.]\n",
            " [  0.   0.   0.   0.   0.   0.   0.   0.   0.   0.   0.]]\n"
          ],
          "name": "stdout"
        }
      ]
    },
    {
      "cell_type": "code",
      "metadata": {
        "colab": {
          "base_uri": "https://localhost:8080/",
          "height": 1000
        },
        "id": "im1Ht6IUhY_i",
        "outputId": "ad857928-e7a0-4150-fb1c-50b0dee9ecbb"
      },
      "source": [
        "for i in range(10):\n",
        "  one_img_predict(model,i)"
      ],
      "execution_count": null,
      "outputs": [
        {
          "output_type": "stream",
          "text": [
            "/usr/local/lib/python3.6/dist-packages/tensorflow/python/keras/engine/sequential.py:450: UserWarning: `model.predict_classes()` is deprecated and will be removed after 2021-01-01. Please use instead:* `np.argmax(model.predict(x), axis=-1)`,   if your model does multi-class classification   (e.g. if it uses a `softmax` last-layer activation).* `(model.predict(x) > 0.5).astype(\"int32\")`,   if your model does binary classification   (e.g. if it uses a `sigmoid` last-layer activation).\n",
            "  warnings.warn('`model.predict_classes()` is deprecated and '\n"
          ],
          "name": "stderr"
        },
        {
          "output_type": "stream",
          "text": [
            "Prediction: 7\n",
            "Answer: 7\n"
          ],
          "name": "stdout"
        },
        {
          "output_type": "display_data",
          "data": {
            "image/png": "[encoded data removed]",
            "text/plain": [
              "<Figure size 432x288 with 1 Axes>"
            ]
          },
          "metadata": {
            "tags": []
          }
        },
        {
          "output_type": "stream",
          "text": [
            "Prediction: 2\n",
            "Answer: 2\n"
          ],
          "name": "stdout"
        },
        {
          "output_type": "display_data",
          "data": {
            "image/png": "[encoded data removed]",
            "text/plain": [
              "<Figure size 432x288 with 1 Axes>"
            ]
          },
          "metadata": {
            "tags": []
          }
        },
        {
          "output_type": "stream",
          "text": [
            "Prediction: 1\n",
            "Answer: 1\n"
          ],
          "name": "stdout"
        },
        {
          "output_type": "display_data",
          "data": {
            "image/png": "[encoded data removed]",
            "text/plain": [
              "<Figure size 432x288 with 1 Axes>"
            ]
          },
          "metadata": {
            "tags": []
          }
        },
        {
          "output_type": "stream",
          "text": [
            "Prediction: 0\n",
            "Answer: 0\n"
          ],
          "name": "stdout"
        },
        {
          "output_type": "display_data",
          "data": {
            "image/png": "[encoded data removed]",
            "text/plain": [
              "<Figure size 432x288 with 1 Axes>"
            ]
          },
          "metadata": {
            "tags": []
          }
        },
        {
          "output_type": "stream",
          "text": [
            "Prediction: 4\n",
            "Answer: 4\n"
          ],
          "name": "stdout"
        },
        {
          "output_type": "display_data",
          "data": {
            "image/png": "[encoded data removed]",
            "text/plain": [
              "<Figure size 432x288 with 1 Axes>"
            ]
          },
          "metadata": {
            "tags": []
          }
        },
        {
          "output_type": "stream",
          "text": [
            "Prediction: 1\n",
            "Answer: 1\n"
          ],
          "name": "stdout"
        },
        {
          "output_type": "display_data",
          "data": {
            "image/png": "[encoded data removed]",
            "text/plain": [
              "<Figure size 432x288 with 1 Axes>"
            ]
          },
          "metadata": {
            "tags": []
          }
        },
        {
          "output_type": "stream",
          "text": [
            "Prediction: 4\n",
            "Answer: 4\n"
          ],
          "name": "stdout"
        },
        {
          "output_type": "display_data",
          "data": {
            "image/png": "[encoded data removed]",
            "text/plain": [
              "<Figure size 432x288 with 1 Axes>"
            ]
          },
          "metadata": {
            "tags": []
          }
        },
        {
          "output_type": "stream",
          "text": [
            "Prediction: 9\n",
            "Answer: 9\n"
          ],
          "name": "stdout"
        },
        {
          "output_type": "display_data",
          "data": {
            "image/png": "[encoded data removed]",
            "text/plain": [
              "<Figure size 432x288 with 1 Axes>"
            ]
          },
          "metadata": {
            "tags": []
          }
        },
        {
          "output_type": "stream",
          "text": [
            "Prediction: 5\n",
            "Answer: 5\n"
          ],
          "name": "stdout"
        },
        {
          "output_type": "display_data",
          "data": {
            "image/png": "[encoded data removed]",
            "text/plain": [
              "<Figure size 432x288 with 1 Axes>"
            ]
          },
          "metadata": {
            "tags": []
          }
        },
        {
          "output_type": "stream",
          "text": [
            "Prediction: 9\n",
            "Answer: 9\n"
          ],
          "name": "stdout"
        },
        {
          "output_type": "display_data",
          "data": {
            "image/png": "[encoded data removed]",
            "text/plain": [
              "<Figure size 432x288 with 1 Axes>"
            ]
          },
          "metadata": {
            "tags": []
          }
        }
      ]
    },
    {
      "cell_type": "code",
      "metadata": {
        "colab": {
          "base_uri": "https://localhost:8080/"
        },
        "id": "bZ702BHdgFPq",
        "outputId": "f900389d-2266-4260-d119-c0c2362d07d0"
      },
      "source": [
        "all_img_predict(model)"
      ],
      "execution_count": null,
      "outputs": [
        {
          "output_type": "stream",
          "text": [
            "Model: \"sequential_4\"\n",
            "_________________________________________________________________\n",
            "Layer (type)                 Output Shape              Param #   \n",
            "=================================================================\n",
            "conv2d_5 (Conv2D)            (None, 28, 28, 16)        416       \n",
            "_________________________________________________________________\n",
            "max_pooling2d_3 (MaxPooling2 (None, 14, 14, 16)        0         \n",
            "_________________________________________________________________\n",
            "conv2d_6 (Conv2D)            (None, 14, 14, 36)        14436     \n",
            "_________________________________________________________________\n",
            "max_pooling2d_4 (MaxPooling2 (None, 7, 7, 36)          0         \n",
            "_________________________________________________________________\n",
            "dropout_2 (Dropout)          (None, 7, 7, 36)          0         \n",
            "_________________________________________________________________\n",
            "flatten_2 (Flatten)          (None, 1764)              0         \n",
            "_________________________________________________________________\n",
            "dense_4 (Dense)              (None, 128)               225920    \n",
            "_________________________________________________________________\n",
            "dropout_3 (Dropout)          (None, 128)               0         \n",
            "_________________________________________________________________\n",
            "dense_5 (Dense)              (None, 10)                1290      \n",
            "=================================================================\n",
            "Total params: 242,062\n",
            "Trainable params: 242,062\n",
            "Non-trainable params: 0\n",
            "_________________________________________________________________\n",
            "None\n",
            "313/313 [==============================] - 1s 2ms/step - loss: 0.0212 - accuracy: 0.9930\n",
            "Loss: 0.021242374554276466\n",
            "Accuracy: 0.9929999709129333\n"
          ],
          "name": "stdout"
        },
        {
          "output_type": "stream",
          "text": [
            "/usr/local/lib/python3.6/dist-packages/tensorflow/python/keras/engine/sequential.py:450: UserWarning: `model.predict_classes()` is deprecated and will be removed after 2021-01-01. Please use instead:* `np.argmax(model.predict(x), axis=-1)`,   if your model does multi-class classification   (e.g. if it uses a `softmax` last-layer activation).* `(model.predict(x) > 0.5).astype(\"int32\")`,   if your model does binary classification   (e.g. if it uses a `sigmoid` last-layer activation).\n",
            "  warnings.warn('`model.predict_classes()` is deprecated and '\n"
          ],
          "name": "stderr"
        },
        {
          "output_type": "stream",
          "text": [
            "predict    0     1     2     3    4    5    6     7    8    9\n",
            "Label                                                        \n",
            "0        976     0     1     0    0    0    1     0    1    1\n",
            "1          0  1133     1     1    0    0    0     0    0    0\n",
            "2          0     0  1029     0    0    0    0     2    1    0\n",
            "3          0     0     0  1009    0    0    0     0    1    0\n",
            "4          0     0     0     0  977    0    1     1    0    3\n",
            "5          1     0     0     5    0  880    1     1    2    2\n",
            "6          2     2     0     0    1    2  948     0    3    0\n",
            "7          0     3     9     0    0    0    0  1013    1    2\n",
            "8          1     0     2     1    1    1    0     0  967    1\n",
            "9          0     0     1     0    4    0    0     1    5  998\n"
          ],
          "name": "stdout"
        }
      ]
    },
    {
      "cell_type": "code",
      "metadata": {
        "id": "BPndvVuchXrN"
      },
      "source": [
        ""
      ],
      "execution_count": null,
      "outputs": []
    }
  ]
}